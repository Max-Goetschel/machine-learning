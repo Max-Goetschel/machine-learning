{
 "cells": [
  {
   "cell_type": "markdown",
   "metadata": {},
   "source": [
    "# Python for Machine Learning\n",
    "\n",
    "### *Session \\#1*\n",
    "\n",
    "\n",
    "### Helpful shortcuts\n",
    "---\n",
    "\n",
    "**SHIFT** + **ENTER** ----> Execute Cell\n",
    "\n",
    "**UP/DOWN ARROWS** --> Move cursor between cells (then ENTER to start typing)\n",
    "\n",
    "**TAB** ----> See autocomplete options\n",
    "\n",
    "**ESC** then **b** ----> Create Cell \n",
    "\n",
    "**ESC** then **dd** ----> Delete Cell\n",
    "\n",
    "**\\[python expression\\]?** ---> Explanation of that Python expression\n",
    "\n",
    "**ESC** then **m** then __ENTER__ ----> Switch to Markdown mode"
   ]
  },
  {
   "cell_type": "markdown",
   "metadata": {},
   "source": [
    "## I. Preparing Data"
   ]
  },
  {
   "cell_type": "markdown",
   "metadata": {},
   "source": [
    "### Warm Ups\n",
    "\n",
    "*Type the given code into the cell below*\n",
    "\n",
    "---\n",
    "\n",
    "**Import pandas and read CSV**: \n",
    "```python\n",
    "import pandas as pd\n",
    "df = pd.read_csv(\"heart_attack.csv\")\n",
    "```"
   ]
  },
  {
   "cell_type": "code",
   "execution_count": 307,
   "metadata": {},
   "outputs": [],
   "source": [
    "import pandas as pd\n",
    "df = pd.read_csv(\"heart_attack.csv\")"
   ]
  },
  {
   "cell_type": "markdown",
   "metadata": {},
   "source": [
    "**Set target vector:** `y = df['current_smoker']`"
   ]
  },
  {
   "cell_type": "code",
   "execution_count": 3,
   "metadata": {},
   "outputs": [],
   "source": [
    "y = df['current_smoker']"
   ]
  },
  {
   "cell_type": "markdown",
   "metadata": {},
   "source": [
    "**Set feature matrix**\n",
    "```python\n",
    "columns = ['current_smoker', 'education']\n",
    "X = df[columns]\n",
    "```"
   ]
  },
  {
   "cell_type": "code",
   "execution_count": null,
   "metadata": {},
   "outputs": [],
   "source": []
  },
  {
   "cell_type": "markdown",
   "metadata": {},
   "source": [
    "**Drop column:** `df.drop(columns=['heart_attack'])`\n",
    "\n",
    "*Note: You can drop multiple columns at once, by using a list of column names*"
   ]
  },
  {
   "cell_type": "code",
   "execution_count": null,
   "metadata": {},
   "outputs": [],
   "source": []
  },
  {
   "cell_type": "markdown",
   "metadata": {},
   "source": [
    "**Split data into train/test sets:**\n",
    "```python\n",
    "from sklearn.model_selection import train_test_split\n",
    "X_train, X_test, y_train, y_test = train_test_split(X, y)\n",
    "```\n",
    "\n",
    "*Note: Default split is 0.75 train, 0.25 test. Can change proportion using* `test_size` *parameter*"
   ]
  },
  {
   "cell_type": "code",
   "execution_count": 56,
   "metadata": {},
   "outputs": [],
   "source": [
    "from sklearn.model_selection import train_test_split\n",
    "X_train, X_test, y_train, y_test = train_test_split(X, y)"
   ]
  },
  {
   "cell_type": "markdown",
   "metadata": {},
   "source": [
    "### Exercises\n",
    "---\n",
    "\n",
    "**1. Create the feature matrix** `X` **by forming a dataframe from the columns** `male, current_smoker` **and**   `education` "
   ]
  },
  {
   "cell_type": "code",
   "execution_count": null,
   "metadata": {},
   "outputs": [],
   "source": [
    "columns = ['male', 'current_smoker', 'education']\n",
    "\n",
    "X = df[columns]"
   ]
  },
  {
   "cell_type": "markdown",
   "metadata": {},
   "source": [
    "**2. Now create the feature matrix** `X` **by instead just dropping** `heart_attack` **from the original dataframe**"
   ]
  },
  {
   "cell_type": "code",
   "execution_count": null,
   "metadata": {},
   "outputs": [],
   "source": [
    "X = df.drop(columns=['heart_attack'])"
   ]
  },
  {
   "cell_type": "markdown",
   "metadata": {},
   "source": [
    "**3. Create the target vector** `y` **from the column** `heart_attack`"
   ]
  },
  {
   "cell_type": "code",
   "execution_count": null,
   "metadata": {},
   "outputs": [],
   "source": [
    "y = df['heart_attack']"
   ]
  },
  {
   "cell_type": "markdown",
   "metadata": {},
   "source": [
    "**4. Use** `train_test_split` **to divide your data into** `X_train`, `X_test`, `y_train`, `y_test`\n",
    "\n",
    "**Add the parameter** `random_state=1` **to lock in the a particular random selection of rows.** "
   ]
  },
  {
   "cell_type": "code",
   "execution_count": 63,
   "metadata": {},
   "outputs": [],
   "source": [
    "X_train, X_test, y_train, y_test = train_test_split(X, y, random_state=1)"
   ]
  },
  {
   "cell_type": "markdown",
   "metadata": {},
   "source": [
    "## II. Distance and Neighbors"
   ]
  },
  {
   "cell_type": "markdown",
   "metadata": {},
   "source": [
    "### Warm Ups\n",
    "\n",
    "*Type the given code into the cell below*\n",
    "\n",
    "---"
   ]
  },
  {
   "cell_type": "markdown",
   "metadata": {},
   "source": [
    "**Take the square root:** `sqrt(16)`"
   ]
  },
  {
   "cell_type": "code",
   "execution_count": 37,
   "metadata": {},
   "outputs": [],
   "source": [
    "from math import sqrt"
   ]
  },
  {
   "cell_type": "markdown",
   "metadata": {},
   "source": [
    "**Create column by applying function to rows:** \n",
    "```python \n",
    "df.apply(lambda row: row['age'] * 7, axis=1)\n",
    "```"
   ]
  },
  {
   "cell_type": "code",
   "execution_count": null,
   "metadata": {},
   "outputs": [],
   "source": []
  },
  {
   "cell_type": "markdown",
   "metadata": {},
   "source": [
    "**Sort dataframe by column values:** \n",
    "```python \n",
    "df.sort_values('age')\n",
    "```"
   ]
  },
  {
   "cell_type": "code",
   "execution_count": null,
   "metadata": {},
   "outputs": [],
   "source": []
  },
  {
   "cell_type": "markdown",
   "metadata": {},
   "source": [
    "### Exercises\n",
    "---\n",
    "\n",
    "![image](../images/coordinateplane.png)\n",
    "\n",
    "**1. Use the square root function,** `sqrt()`**, to find the distance between the two points.**\n",
    "\n",
    "*Hint: In two dimensions, the formula for distance is $\\sqrt{(x_0-x_1)^2 + (y_0 - y_1)^2}$*"
   ]
  },
  {
   "cell_type": "code",
   "execution_count": 64,
   "metadata": {},
   "outputs": [
    {
     "data": {
      "text/plain": [
       "6.324555320336759"
      ]
     },
     "execution_count": 64,
     "metadata": {},
     "output_type": "execute_result"
    }
   ],
   "source": [
    "x_diff = 4-(-2)\n",
    "y_diff = 3-1\n",
    "\n",
    "sqrt(x_diff**2 + y_diff**2)"
   ]
  },
  {
   "cell_type": "markdown",
   "metadata": {},
   "source": [
    "![image](../images/threedimensions.jpeg)\n",
    "\n",
    "**2. Find the distance between the two points in three dimensions.**\n",
    "\n",
    "*Hint: In two dimensions, the formula for distance is $\\sqrt{(x_0-x_1)^2 + (y_0 - y_1)^2 + (z_0 - z_1)^2}$*"
   ]
  },
  {
   "cell_type": "code",
   "execution_count": 65,
   "metadata": {},
   "outputs": [
    {
     "data": {
      "text/plain": [
       "6.4031242374328485"
      ]
     },
     "execution_count": 65,
     "metadata": {},
     "output_type": "execute_result"
    }
   ],
   "source": [
    "x_diff = 3 - 2\n",
    "y_diff = -1 - 1\n",
    "z_diff = 5 - (-1)\n",
    "\n",
    "sqrt(x_diff**2 + y_diff**2 + z_diff**2)"
   ]
  },
  {
   "cell_type": "markdown",
   "metadata": {},
   "source": [
    "**3. Complete the function below, which finds the distance between two rows of data in 2D.**\n",
    "\n",
    "*Hint: In two dimensions, the formula for distance is $\\sqrt{(x_0-x_1)^2 + (y_0 - y_1)^2 + (z_0 - z_1)^2}$*"
   ]
  },
  {
   "cell_type": "code",
   "execution_count": 29,
   "metadata": {},
   "outputs": [
    {
     "data": {
      "text/plain": [
       "37.0"
      ]
     },
     "execution_count": 29,
     "metadata": {},
     "output_type": "execute_result"
    }
   ],
   "source": [
    "def distance_2d(row1, row2):\n",
    "    \n",
    "    # define x_diff = difference between row1['x'] and row2['x']\n",
    "    x_diff = row1['x'] - row2['x']\n",
    "    \n",
    "    # define y_diff = difference between row1['y'] and row2['y']\n",
    "    y_diff = row1['y'] - row2['y']\n",
    "    \n",
    "    # define total = square x_diff and y_diff, add them together\n",
    "    total = x_diff**2 + y_diff**2\n",
    "    \n",
    "    # take the square root \n",
    "    return sqrt(total)\n",
    "\n",
    "\n",
    "# Use the rows below to test your function!\n",
    "# Answer should be 37\n",
    "test_row_1 = pd.Series({'x': 10, 'y': -30})\n",
    "test_row_2 = pd.Series({'x': -2, 'y': 5})"
   ]
  },
  {
   "cell_type": "markdown",
   "metadata": {},
   "source": [
    "**4. Complete the function below, which finds the distance between two rows of data in ANY dimension.**"
   ]
  },
  {
   "cell_type": "code",
   "execution_count": 34,
   "metadata": {},
   "outputs": [
    {
     "data": {
      "text/plain": [
       "15.0"
      ]
     },
     "execution_count": 34,
     "metadata": {},
     "output_type": "execute_result"
    }
   ],
   "source": [
    "def distance(row1, row2):\n",
    "    total = 0\n",
    "    for column in row1.index:\n",
    "        # Find the difference between row1, row2 along this column\n",
    "        diff = row1[column] - row2[column]\n",
    "        # Square the difference, add it to total\n",
    "        total += diff**2\n",
    "    # Return the square root of total\n",
    "    return sqrt(total)\n",
    "\n",
    "# Use the rows below to test your function!\n",
    "# Answer should be 15\n",
    "test_row_3 = pd.Series({'x': 10, 'y': -30, 'z':-1})\n",
    "test_row_4 = pd.Series({'x': 12, 'y': -20, 'z':10})\n",
    "\n",
    "distance(test_row_3, test_row_4)"
   ]
  },
  {
   "cell_type": "markdown",
   "metadata": {},
   "source": [
    "**5. Add a column** `distance` **to the feature matrix X.**"
   ]
  },
  {
   "cell_type": "code",
   "execution_count": 50,
   "metadata": {},
   "outputs": [
    {
     "data": {
      "text/html": [
       "<div>\n",
       "<style scoped>\n",
       "    .dataframe tbody tr th:only-of-type {\n",
       "        vertical-align: middle;\n",
       "    }\n",
       "\n",
       "    .dataframe tbody tr th {\n",
       "        vertical-align: top;\n",
       "    }\n",
       "\n",
       "    .dataframe thead th {\n",
       "        text-align: right;\n",
       "    }\n",
       "</style>\n",
       "<table border=\"1\" class=\"dataframe\">\n",
       "  <thead>\n",
       "    <tr style=\"text-align: right;\">\n",
       "      <th></th>\n",
       "      <th>male</th>\n",
       "      <th>age</th>\n",
       "      <th>education</th>\n",
       "      <th>current_smoker</th>\n",
       "      <th>cigs_per_day</th>\n",
       "      <th>bp_meds</th>\n",
       "      <th>prevalent_stroke</th>\n",
       "      <th>prevalent_hyp</th>\n",
       "      <th>diabetes</th>\n",
       "      <th>tot_chol</th>\n",
       "      <th>sys_bp</th>\n",
       "      <th>dia_bp</th>\n",
       "      <th>bmi</th>\n",
       "      <th>heart_rate</th>\n",
       "      <th>glucose</th>\n",
       "      <th>heart_attack</th>\n",
       "      <th>distance</th>\n",
       "    </tr>\n",
       "  </thead>\n",
       "  <tbody>\n",
       "    <tr>\n",
       "      <th>241</th>\n",
       "      <td>0</td>\n",
       "      <td>54</td>\n",
       "      <td>1.0</td>\n",
       "      <td>0</td>\n",
       "      <td>0.0</td>\n",
       "      <td>0.0</td>\n",
       "      <td>0</td>\n",
       "      <td>1</td>\n",
       "      <td>0</td>\n",
       "      <td>273.0</td>\n",
       "      <td>139.0</td>\n",
       "      <td>98.0</td>\n",
       "      <td>29.06</td>\n",
       "      <td>110.0</td>\n",
       "      <td>73.0</td>\n",
       "      <td>1</td>\n",
       "      <td>40.937135</td>\n",
       "    </tr>\n",
       "    <tr>\n",
       "      <th>2038</th>\n",
       "      <td>0</td>\n",
       "      <td>52</td>\n",
       "      <td>1.0</td>\n",
       "      <td>0</td>\n",
       "      <td>0.0</td>\n",
       "      <td>0.0</td>\n",
       "      <td>0</td>\n",
       "      <td>0</td>\n",
       "      <td>0</td>\n",
       "      <td>279.0</td>\n",
       "      <td>135.0</td>\n",
       "      <td>86.0</td>\n",
       "      <td>27.02</td>\n",
       "      <td>100.0</td>\n",
       "      <td>72.0</td>\n",
       "      <td>1</td>\n",
       "      <td>41.794905</td>\n",
       "    </tr>\n",
       "    <tr>\n",
       "      <th>2779</th>\n",
       "      <td>0</td>\n",
       "      <td>45</td>\n",
       "      <td>2.0</td>\n",
       "      <td>1</td>\n",
       "      <td>1.0</td>\n",
       "      <td>0.0</td>\n",
       "      <td>0</td>\n",
       "      <td>1</td>\n",
       "      <td>0</td>\n",
       "      <td>285.0</td>\n",
       "      <td>132.5</td>\n",
       "      <td>97.5</td>\n",
       "      <td>24.74</td>\n",
       "      <td>98.0</td>\n",
       "      <td>77.0</td>\n",
       "      <td>0</td>\n",
       "      <td>42.206465</td>\n",
       "    </tr>\n",
       "    <tr>\n",
       "      <th>629</th>\n",
       "      <td>1</td>\n",
       "      <td>64</td>\n",
       "      <td>1.0</td>\n",
       "      <td>0</td>\n",
       "      <td>0.0</td>\n",
       "      <td>0.0</td>\n",
       "      <td>0</td>\n",
       "      <td>0</td>\n",
       "      <td>0</td>\n",
       "      <td>271.0</td>\n",
       "      <td>134.0</td>\n",
       "      <td>79.0</td>\n",
       "      <td>24.95</td>\n",
       "      <td>106.0</td>\n",
       "      <td>90.0</td>\n",
       "      <td>0</td>\n",
       "      <td>42.939945</td>\n",
       "    </tr>\n",
       "    <tr>\n",
       "      <th>2043</th>\n",
       "      <td>1</td>\n",
       "      <td>46</td>\n",
       "      <td>2.0</td>\n",
       "      <td>1</td>\n",
       "      <td>20.0</td>\n",
       "      <td>0.0</td>\n",
       "      <td>0</td>\n",
       "      <td>0</td>\n",
       "      <td>0</td>\n",
       "      <td>275.0</td>\n",
       "      <td>137.0</td>\n",
       "      <td>88.0</td>\n",
       "      <td>29.28</td>\n",
       "      <td>110.0</td>\n",
       "      <td>88.0</td>\n",
       "      <td>0</td>\n",
       "      <td>43.069828</td>\n",
       "    </tr>\n",
       "    <tr>\n",
       "      <th>...</th>\n",
       "      <td>...</td>\n",
       "      <td>...</td>\n",
       "      <td>...</td>\n",
       "      <td>...</td>\n",
       "      <td>...</td>\n",
       "      <td>...</td>\n",
       "      <td>...</td>\n",
       "      <td>...</td>\n",
       "      <td>...</td>\n",
       "      <td>...</td>\n",
       "      <td>...</td>\n",
       "      <td>...</td>\n",
       "      <td>...</td>\n",
       "      <td>...</td>\n",
       "      <td>...</td>\n",
       "      <td>...</td>\n",
       "      <td>...</td>\n",
       "    </tr>\n",
       "    <tr>\n",
       "      <th>2065</th>\n",
       "      <td>0</td>\n",
       "      <td>62</td>\n",
       "      <td>1.0</td>\n",
       "      <td>0</td>\n",
       "      <td>0.0</td>\n",
       "      <td>0.0</td>\n",
       "      <td>0</td>\n",
       "      <td>0</td>\n",
       "      <td>1</td>\n",
       "      <td>233.0</td>\n",
       "      <td>130.0</td>\n",
       "      <td>87.0</td>\n",
       "      <td>21.34</td>\n",
       "      <td>85.0</td>\n",
       "      <td>386.0</td>\n",
       "      <td>0</td>\n",
       "      <td>388.505320</td>\n",
       "    </tr>\n",
       "    <tr>\n",
       "      <th>3309</th>\n",
       "      <td>0</td>\n",
       "      <td>62</td>\n",
       "      <td>3.0</td>\n",
       "      <td>1</td>\n",
       "      <td>20.0</td>\n",
       "      <td>1.0</td>\n",
       "      <td>0</td>\n",
       "      <td>1</td>\n",
       "      <td>1</td>\n",
       "      <td>358.0</td>\n",
       "      <td>215.0</td>\n",
       "      <td>110.0</td>\n",
       "      <td>37.62</td>\n",
       "      <td>110.0</td>\n",
       "      <td>368.0</td>\n",
       "      <td>1</td>\n",
       "      <td>407.187322</td>\n",
       "    </tr>\n",
       "    <tr>\n",
       "      <th>2501</th>\n",
       "      <td>0</td>\n",
       "      <td>67</td>\n",
       "      <td>2.0</td>\n",
       "      <td>0</td>\n",
       "      <td>0.0</td>\n",
       "      <td>1.0</td>\n",
       "      <td>0</td>\n",
       "      <td>1</td>\n",
       "      <td>1</td>\n",
       "      <td>303.0</td>\n",
       "      <td>204.0</td>\n",
       "      <td>96.0</td>\n",
       "      <td>27.86</td>\n",
       "      <td>75.0</td>\n",
       "      <td>394.0</td>\n",
       "      <td>1</td>\n",
       "      <td>417.665822</td>\n",
       "    </tr>\n",
       "    <tr>\n",
       "      <th>2490</th>\n",
       "      <td>1</td>\n",
       "      <td>62</td>\n",
       "      <td>3.0</td>\n",
       "      <td>0</td>\n",
       "      <td>0.0</td>\n",
       "      <td>0.0</td>\n",
       "      <td>0</td>\n",
       "      <td>0</td>\n",
       "      <td>1</td>\n",
       "      <td>346.0</td>\n",
       "      <td>102.5</td>\n",
       "      <td>66.5</td>\n",
       "      <td>17.17</td>\n",
       "      <td>80.0</td>\n",
       "      <td>394.0</td>\n",
       "      <td>1</td>\n",
       "      <td>419.766351</td>\n",
       "    </tr>\n",
       "    <tr>\n",
       "      <th>966</th>\n",
       "      <td>0</td>\n",
       "      <td>52</td>\n",
       "      <td>2.0</td>\n",
       "      <td>0</td>\n",
       "      <td>0.0</td>\n",
       "      <td>0.0</td>\n",
       "      <td>0</td>\n",
       "      <td>1</td>\n",
       "      <td>1</td>\n",
       "      <td>600.0</td>\n",
       "      <td>159.5</td>\n",
       "      <td>94.0</td>\n",
       "      <td>28.27</td>\n",
       "      <td>78.0</td>\n",
       "      <td>140.0</td>\n",
       "      <td>1</td>\n",
       "      <td>459.042828</td>\n",
       "    </tr>\n",
       "  </tbody>\n",
       "</table>\n",
       "<p>3656 rows × 17 columns</p>\n",
       "</div>"
      ],
      "text/plain": [
       "      male  age  education  current_smoker  cigs_per_day  bp_meds  \\\n",
       "241      0   54        1.0               0           0.0      0.0   \n",
       "2038     0   52        1.0               0           0.0      0.0   \n",
       "2779     0   45        2.0               1           1.0      0.0   \n",
       "629      1   64        1.0               0           0.0      0.0   \n",
       "2043     1   46        2.0               1          20.0      0.0   \n",
       "...    ...  ...        ...             ...           ...      ...   \n",
       "2065     0   62        1.0               0           0.0      0.0   \n",
       "3309     0   62        3.0               1          20.0      1.0   \n",
       "2501     0   67        2.0               0           0.0      1.0   \n",
       "2490     1   62        3.0               0           0.0      0.0   \n",
       "966      0   52        2.0               0           0.0      0.0   \n",
       "\n",
       "      prevalent_stroke  prevalent_hyp  diabetes  tot_chol  sys_bp  dia_bp  \\\n",
       "241                  0              1         0     273.0   139.0    98.0   \n",
       "2038                 0              0         0     279.0   135.0    86.0   \n",
       "2779                 0              1         0     285.0   132.5    97.5   \n",
       "629                  0              0         0     271.0   134.0    79.0   \n",
       "2043                 0              0         0     275.0   137.0    88.0   \n",
       "...                ...            ...       ...       ...     ...     ...   \n",
       "2065                 0              0         1     233.0   130.0    87.0   \n",
       "3309                 0              1         1     358.0   215.0   110.0   \n",
       "2501                 0              1         1     303.0   204.0    96.0   \n",
       "2490                 0              0         1     346.0   102.5    66.5   \n",
       "966                  0              1         1     600.0   159.5    94.0   \n",
       "\n",
       "        bmi  heart_rate  glucose  heart_attack    distance  \n",
       "241   29.06       110.0     73.0             1   40.937135  \n",
       "2038  27.02       100.0     72.0             1   41.794905  \n",
       "2779  24.74        98.0     77.0             0   42.206465  \n",
       "629   24.95       106.0     90.0             0   42.939945  \n",
       "2043  29.28       110.0     88.0             0   43.069828  \n",
       "...     ...         ...      ...           ...         ...  \n",
       "2065  21.34        85.0    386.0             0  388.505320  \n",
       "3309  37.62       110.0    368.0             1  407.187322  \n",
       "2501  27.86        75.0    394.0             1  417.665822  \n",
       "2490  17.17        80.0    394.0             1  419.766351  \n",
       "966   28.27        78.0    140.0             1  459.042828  \n",
       "\n",
       "[3656 rows x 17 columns]"
      ]
     },
     "execution_count": 50,
     "metadata": {},
     "output_type": "execute_result"
    }
   ],
   "source": [
    "new_row = df.iloc[1] * 1.2\n",
    "\n",
    "# Create a new column `distance` based on how far each row is from the new datapoint\n",
    "df['distance'] = df.apply(lambda row: distance(row, new_row), axis=1)\n",
    "\n",
    "# sort the dataframe according to distance\n",
    "df.sort_values('distance')"
   ]
  },
  {
   "cell_type": "markdown",
   "metadata": {},
   "source": [
    "### Extra Credit\n",
    "---\n",
    "**Create a function** `neighbors` **that takes a dataframe and a new row.** \n",
    "\n",
    "**It should return the 5 nearest rows inside the dataframe**"
   ]
  },
  {
   "cell_type": "code",
   "execution_count": 68,
   "metadata": {},
   "outputs": [
    {
     "name": "stderr",
     "output_type": "stream",
     "text": [
      "/Users/rcarrington/opt/anaconda3/envs/machine_learning_bootcamp/lib/python3.7/site-packages/ipykernel_launcher.py:2: SettingWithCopyWarning: \n",
      "A value is trying to be set on a copy of a slice from a DataFrame.\n",
      "Try using .loc[row_indexer,col_indexer] = value instead\n",
      "\n",
      "See the caveats in the documentation: https://pandas.pydata.org/pandas-docs/stable/user_guide/indexing.html#returning-a-view-versus-a-copy\n",
      "  \n"
     ]
    },
    {
     "data": {
      "text/html": [
       "<div>\n",
       "<style scoped>\n",
       "    .dataframe tbody tr th:only-of-type {\n",
       "        vertical-align: middle;\n",
       "    }\n",
       "\n",
       "    .dataframe tbody tr th {\n",
       "        vertical-align: top;\n",
       "    }\n",
       "\n",
       "    .dataframe thead th {\n",
       "        text-align: right;\n",
       "    }\n",
       "</style>\n",
       "<table border=\"1\" class=\"dataframe\">\n",
       "  <thead>\n",
       "    <tr style=\"text-align: right;\">\n",
       "      <th></th>\n",
       "      <th>male</th>\n",
       "      <th>age</th>\n",
       "      <th>education</th>\n",
       "      <th>current_smoker</th>\n",
       "      <th>cigs_per_day</th>\n",
       "      <th>bp_meds</th>\n",
       "      <th>prevalent_stroke</th>\n",
       "      <th>prevalent_hyp</th>\n",
       "      <th>diabetes</th>\n",
       "      <th>tot_chol</th>\n",
       "      <th>sys_bp</th>\n",
       "      <th>dia_bp</th>\n",
       "      <th>bmi</th>\n",
       "      <th>heart_rate</th>\n",
       "      <th>glucose</th>\n",
       "      <th>distance</th>\n",
       "    </tr>\n",
       "  </thead>\n",
       "  <tbody>\n",
       "    <tr>\n",
       "      <th>2770</th>\n",
       "      <td>0</td>\n",
       "      <td>46</td>\n",
       "      <td>3.0</td>\n",
       "      <td>1</td>\n",
       "      <td>6.0</td>\n",
       "      <td>0.0</td>\n",
       "      <td>0</td>\n",
       "      <td>1</td>\n",
       "      <td>0</td>\n",
       "      <td>315.0</td>\n",
       "      <td>165.0</td>\n",
       "      <td>85.0</td>\n",
       "      <td>32.89</td>\n",
       "      <td>110.0</td>\n",
       "      <td>91.0</td>\n",
       "      <td>36.445859</td>\n",
       "    </tr>\n",
       "    <tr>\n",
       "      <th>1025</th>\n",
       "      <td>0</td>\n",
       "      <td>64</td>\n",
       "      <td>2.0</td>\n",
       "      <td>1</td>\n",
       "      <td>3.0</td>\n",
       "      <td>0.0</td>\n",
       "      <td>0</td>\n",
       "      <td>0</td>\n",
       "      <td>0</td>\n",
       "      <td>315.0</td>\n",
       "      <td>135.0</td>\n",
       "      <td>80.0</td>\n",
       "      <td>25.23</td>\n",
       "      <td>103.0</td>\n",
       "      <td>89.0</td>\n",
       "      <td>36.704826</td>\n",
       "    </tr>\n",
       "    <tr>\n",
       "      <th>1683</th>\n",
       "      <td>0</td>\n",
       "      <td>46</td>\n",
       "      <td>1.0</td>\n",
       "      <td>0</td>\n",
       "      <td>0.0</td>\n",
       "      <td>0.0</td>\n",
       "      <td>0</td>\n",
       "      <td>0</td>\n",
       "      <td>0</td>\n",
       "      <td>295.0</td>\n",
       "      <td>145.0</td>\n",
       "      <td>90.0</td>\n",
       "      <td>25.87</td>\n",
       "      <td>90.0</td>\n",
       "      <td>79.0</td>\n",
       "      <td>37.301169</td>\n",
       "    </tr>\n",
       "    <tr>\n",
       "      <th>363</th>\n",
       "      <td>0</td>\n",
       "      <td>45</td>\n",
       "      <td>2.0</td>\n",
       "      <td>0</td>\n",
       "      <td>0.0</td>\n",
       "      <td>0.0</td>\n",
       "      <td>0</td>\n",
       "      <td>1</td>\n",
       "      <td>0</td>\n",
       "      <td>304.0</td>\n",
       "      <td>148.0</td>\n",
       "      <td>106.0</td>\n",
       "      <td>22.98</td>\n",
       "      <td>98.0</td>\n",
       "      <td>72.0</td>\n",
       "      <td>37.314780</td>\n",
       "    </tr>\n",
       "    <tr>\n",
       "      <th>1660</th>\n",
       "      <td>0</td>\n",
       "      <td>66</td>\n",
       "      <td>2.0</td>\n",
       "      <td>0</td>\n",
       "      <td>0.0</td>\n",
       "      <td>0.0</td>\n",
       "      <td>0</td>\n",
       "      <td>1</td>\n",
       "      <td>0</td>\n",
       "      <td>292.0</td>\n",
       "      <td>143.0</td>\n",
       "      <td>95.0</td>\n",
       "      <td>31.11</td>\n",
       "      <td>90.0</td>\n",
       "      <td>77.0</td>\n",
       "      <td>37.574094</td>\n",
       "    </tr>\n",
       "  </tbody>\n",
       "</table>\n",
       "</div>"
      ],
      "text/plain": [
       "      male  age  education  current_smoker  cigs_per_day  bp_meds  \\\n",
       "2770     0   46        3.0               1           6.0      0.0   \n",
       "1025     0   64        2.0               1           3.0      0.0   \n",
       "1683     0   46        1.0               0           0.0      0.0   \n",
       "363      0   45        2.0               0           0.0      0.0   \n",
       "1660     0   66        2.0               0           0.0      0.0   \n",
       "\n",
       "      prevalent_stroke  prevalent_hyp  diabetes  tot_chol  sys_bp  dia_bp  \\\n",
       "2770                 0              1         0     315.0   165.0    85.0   \n",
       "1025                 0              0         0     315.0   135.0    80.0   \n",
       "1683                 0              0         0     295.0   145.0    90.0   \n",
       "363                  0              1         0     304.0   148.0   106.0   \n",
       "1660                 0              1         0     292.0   143.0    95.0   \n",
       "\n",
       "        bmi  heart_rate  glucose   distance  \n",
       "2770  32.89       110.0     91.0  36.445859  \n",
       "1025  25.23       103.0     89.0  36.704826  \n",
       "1683  25.87        90.0     79.0  37.301169  \n",
       "363   22.98        98.0     72.0  37.314780  \n",
       "1660  31.11        90.0     77.0  37.574094  "
      ]
     },
     "execution_count": 68,
     "metadata": {},
     "output_type": "execute_result"
    }
   ],
   "source": [
    "def neighbors(df, new_row):\n",
    "    df['distance'] = df.apply(lambda row: distance(row, new_row), axis=1)\n",
    "    return df.sort_values('distance').head()\n",
    "\n",
    "neighbors(X_train, new_row)"
   ]
  },
  {
   "cell_type": "markdown",
   "metadata": {},
   "source": [
    "## III. Sci-Kit Learn and K-Nearest Neighbors"
   ]
  },
  {
   "cell_type": "markdown",
   "metadata": {},
   "source": [
    "### Warm Ups\n",
    "\n",
    "*Type the given code into the cell below*\n",
    "\n",
    "---"
   ]
  },
  {
   "cell_type": "code",
   "execution_count": 160,
   "metadata": {},
   "outputs": [],
   "source": [
    "# Run to reset data\n",
    "\n",
    "X = df.drop(columns=['heart_attack'])\n",
    "y = df['heart_attack']\n",
    "X_train, X_test, y_train, y_test = train_test_split(X, y, random_state=1)\n",
    "\n",
    "new_row = X_train.iloc[1] * 1.2"
   ]
  },
  {
   "cell_type": "markdown",
   "metadata": {},
   "source": [
    "**Create KNN Classifier, using 5 neighbors**: \n",
    "```python\n",
    "from sklearn.neighbors import KNeighborsClassifier\n",
    "model = KNeighborsClassifier(5)\n",
    "```"
   ]
  },
  {
   "cell_type": "code",
   "execution_count": 311,
   "metadata": {},
   "outputs": [],
   "source": [
    "from sklearn.neighbors import KNeighborsClassifier\n",
    "model = KNeighborsClassifier(5)"
   ]
  },
  {
   "cell_type": "markdown",
   "metadata": {},
   "source": [
    "**Fit model**: `model.fit(X_train, y_train)`"
   ]
  },
  {
   "cell_type": "code",
   "execution_count": 156,
   "metadata": {},
   "outputs": [
    {
     "data": {
      "text/plain": [
       "KNeighborsClassifier(algorithm='auto', leaf_size=30, metric='minkowski',\n",
       "                     metric_params=None, n_jobs=None, n_neighbors=5, p=2,\n",
       "                     weights='uniform')"
      ]
     },
     "execution_count": 156,
     "metadata": {},
     "output_type": "execute_result"
    }
   ],
   "source": [
    "model.fit(X_train, y_train)"
   ]
  },
  {
   "cell_type": "markdown",
   "metadata": {},
   "source": [
    "**Classify using model**: `model.predict(X_test)`"
   ]
  },
  {
   "cell_type": "code",
   "execution_count": null,
   "metadata": {},
   "outputs": [],
   "source": []
  },
  {
   "cell_type": "markdown",
   "metadata": {},
   "source": [
    "**Classify using model**: `model.score(X_test, y_test)`"
   ]
  },
  {
   "cell_type": "code",
   "execution_count": 157,
   "metadata": {},
   "outputs": [
    {
     "data": {
      "text/plain": [
       "0.8446389496717724"
      ]
     },
     "execution_count": 157,
     "metadata": {},
     "output_type": "execute_result"
    }
   ],
   "source": [
    "model.score(X_test, y_test)"
   ]
  },
  {
   "cell_type": "markdown",
   "metadata": {},
   "source": [
    "### Exercises\n",
    "---\n",
    "**1. Here is a new row. Use the techniques from the previous section to find the 5 rows that are its nearest neighbors.**"
   ]
  },
  {
   "cell_type": "code",
   "execution_count": 322,
   "metadata": {},
   "outputs": [
    {
     "name": "stderr",
     "output_type": "stream",
     "text": [
      "/Users/rcarrington/opt/anaconda3/envs/machine_learning_bootcamp/lib/python3.7/site-packages/ipykernel_launcher.py:3: SettingWithCopyWarning: \n",
      "A value is trying to be set on a copy of a slice from a DataFrame.\n",
      "Try using .loc[row_indexer,col_indexer] = value instead\n",
      "\n",
      "See the caveats in the documentation: https://pandas.pydata.org/pandas-docs/stable/user_guide/indexing.html#returning-a-view-versus-a-copy\n",
      "  This is separate from the ipykernel package so we can avoid doing imports until\n"
     ]
    },
    {
     "data": {
      "text/html": [
       "<div>\n",
       "<style scoped>\n",
       "    .dataframe tbody tr th:only-of-type {\n",
       "        vertical-align: middle;\n",
       "    }\n",
       "\n",
       "    .dataframe tbody tr th {\n",
       "        vertical-align: top;\n",
       "    }\n",
       "\n",
       "    .dataframe thead th {\n",
       "        text-align: right;\n",
       "    }\n",
       "</style>\n",
       "<table border=\"1\" class=\"dataframe\">\n",
       "  <thead>\n",
       "    <tr style=\"text-align: right;\">\n",
       "      <th></th>\n",
       "      <th>male</th>\n",
       "      <th>age</th>\n",
       "      <th>education</th>\n",
       "      <th>current_smoker</th>\n",
       "      <th>cigs_per_day</th>\n",
       "      <th>bp_meds</th>\n",
       "      <th>prevalent_stroke</th>\n",
       "      <th>prevalent_hyp</th>\n",
       "      <th>diabetes</th>\n",
       "      <th>sys_bp</th>\n",
       "      <th>dia_bp</th>\n",
       "      <th>bmi</th>\n",
       "      <th>heart_rate</th>\n",
       "      <th>distance</th>\n",
       "    </tr>\n",
       "  </thead>\n",
       "  <tbody>\n",
       "    <tr>\n",
       "      <th>2158</th>\n",
       "      <td>0</td>\n",
       "      <td>68</td>\n",
       "      <td>3.0</td>\n",
       "      <td>1</td>\n",
       "      <td>20.0</td>\n",
       "      <td>0.0</td>\n",
       "      <td>0</td>\n",
       "      <td>1</td>\n",
       "      <td>0</td>\n",
       "      <td>158.0</td>\n",
       "      <td>94.0</td>\n",
       "      <td>31.64</td>\n",
       "      <td>80.0</td>\n",
       "      <td>10.612492</td>\n",
       "    </tr>\n",
       "    <tr>\n",
       "      <th>2320</th>\n",
       "      <td>0</td>\n",
       "      <td>68</td>\n",
       "      <td>2.0</td>\n",
       "      <td>1</td>\n",
       "      <td>20.0</td>\n",
       "      <td>0.0</td>\n",
       "      <td>0</td>\n",
       "      <td>0</td>\n",
       "      <td>0</td>\n",
       "      <td>148.0</td>\n",
       "      <td>95.0</td>\n",
       "      <td>20.98</td>\n",
       "      <td>95.0</td>\n",
       "      <td>14.112154</td>\n",
       "    </tr>\n",
       "    <tr>\n",
       "      <th>2866</th>\n",
       "      <td>0</td>\n",
       "      <td>59</td>\n",
       "      <td>2.0</td>\n",
       "      <td>1</td>\n",
       "      <td>20.0</td>\n",
       "      <td>0.0</td>\n",
       "      <td>0</td>\n",
       "      <td>1</td>\n",
       "      <td>0</td>\n",
       "      <td>154.5</td>\n",
       "      <td>93.0</td>\n",
       "      <td>21.82</td>\n",
       "      <td>85.0</td>\n",
       "      <td>15.515928</td>\n",
       "    </tr>\n",
       "    <tr>\n",
       "      <th>807</th>\n",
       "      <td>1</td>\n",
       "      <td>61</td>\n",
       "      <td>1.0</td>\n",
       "      <td>1</td>\n",
       "      <td>20.0</td>\n",
       "      <td>0.0</td>\n",
       "      <td>0</td>\n",
       "      <td>1</td>\n",
       "      <td>0</td>\n",
       "      <td>157.0</td>\n",
       "      <td>99.0</td>\n",
       "      <td>28.74</td>\n",
       "      <td>95.0</td>\n",
       "      <td>15.644672</td>\n",
       "    </tr>\n",
       "    <tr>\n",
       "      <th>2233</th>\n",
       "      <td>1</td>\n",
       "      <td>64</td>\n",
       "      <td>1.0</td>\n",
       "      <td>1</td>\n",
       "      <td>20.0</td>\n",
       "      <td>0.0</td>\n",
       "      <td>0</td>\n",
       "      <td>1</td>\n",
       "      <td>0</td>\n",
       "      <td>155.0</td>\n",
       "      <td>99.0</td>\n",
       "      <td>22.46</td>\n",
       "      <td>75.0</td>\n",
       "      <td>15.669995</td>\n",
       "    </tr>\n",
       "  </tbody>\n",
       "</table>\n",
       "</div>"
      ],
      "text/plain": [
       "      male  age  education  current_smoker  cigs_per_day  bp_meds  \\\n",
       "2158     0   68        3.0               1          20.0      0.0   \n",
       "2320     0   68        2.0               1          20.0      0.0   \n",
       "2866     0   59        2.0               1          20.0      0.0   \n",
       "807      1   61        1.0               1          20.0      0.0   \n",
       "2233     1   64        1.0               1          20.0      0.0   \n",
       "\n",
       "      prevalent_stroke  prevalent_hyp  diabetes  sys_bp  dia_bp    bmi  \\\n",
       "2158                 0              1         0   158.0    94.0  31.64   \n",
       "2320                 0              0         0   148.0    95.0  20.98   \n",
       "2866                 0              1         0   154.5    93.0  21.82   \n",
       "807                  0              1         0   157.0    99.0  28.74   \n",
       "2233                 0              1         0   155.0    99.0  22.46   \n",
       "\n",
       "      heart_rate   distance  \n",
       "2158        80.0  10.612492  \n",
       "2320        95.0  14.112154  \n",
       "2866        85.0  15.515928  \n",
       "807         95.0  15.644672  \n",
       "2233        75.0  15.669995  "
      ]
     },
     "execution_count": 322,
     "metadata": {},
     "output_type": "execute_result"
    }
   ],
   "source": [
    "new_row = X_train.iloc[1] * 1.2\n",
    "\n",
    "X_train['distance'] = X_train.apply(lambda row: distance(row, new_row), axis=1)\n",
    "\n",
    "X_train.sort_values('distance').head()"
   ]
  },
  {
   "cell_type": "markdown",
   "metadata": {},
   "source": [
    "**2. The trained scikit-learn model relies on the SAME distance calculations.**\n",
    "\n",
    "**Call** `model.kneighbors([new_row])` **to get the distances and row numbers of the nearest neighbors.**\n",
    "\n",
    "**Call** `X_train.iloc[]` **on the row numbers that come back. It should give you the same rows that we got using our own techniques from above** "
   ]
  },
  {
   "cell_type": "code",
   "execution_count": 324,
   "metadata": {},
   "outputs": [
    {
     "data": {
      "text/html": [
       "<div>\n",
       "<style scoped>\n",
       "    .dataframe tbody tr th:only-of-type {\n",
       "        vertical-align: middle;\n",
       "    }\n",
       "\n",
       "    .dataframe tbody tr th {\n",
       "        vertical-align: top;\n",
       "    }\n",
       "\n",
       "    .dataframe thead th {\n",
       "        text-align: right;\n",
       "    }\n",
       "</style>\n",
       "<table border=\"1\" class=\"dataframe\">\n",
       "  <thead>\n",
       "    <tr style=\"text-align: right;\">\n",
       "      <th></th>\n",
       "      <th>male</th>\n",
       "      <th>age</th>\n",
       "      <th>education</th>\n",
       "      <th>current_smoker</th>\n",
       "      <th>cigs_per_day</th>\n",
       "      <th>bp_meds</th>\n",
       "      <th>prevalent_stroke</th>\n",
       "      <th>prevalent_hyp</th>\n",
       "      <th>diabetes</th>\n",
       "      <th>sys_bp</th>\n",
       "      <th>dia_bp</th>\n",
       "      <th>bmi</th>\n",
       "      <th>heart_rate</th>\n",
       "      <th>distance</th>\n",
       "    </tr>\n",
       "  </thead>\n",
       "  <tbody>\n",
       "    <tr>\n",
       "      <th>2158</th>\n",
       "      <td>0</td>\n",
       "      <td>68</td>\n",
       "      <td>3.0</td>\n",
       "      <td>1</td>\n",
       "      <td>20.0</td>\n",
       "      <td>0.0</td>\n",
       "      <td>0</td>\n",
       "      <td>1</td>\n",
       "      <td>0</td>\n",
       "      <td>158.0</td>\n",
       "      <td>94.0</td>\n",
       "      <td>31.64</td>\n",
       "      <td>80.0</td>\n",
       "      <td>10.612492</td>\n",
       "    </tr>\n",
       "    <tr>\n",
       "      <th>2320</th>\n",
       "      <td>0</td>\n",
       "      <td>68</td>\n",
       "      <td>2.0</td>\n",
       "      <td>1</td>\n",
       "      <td>20.0</td>\n",
       "      <td>0.0</td>\n",
       "      <td>0</td>\n",
       "      <td>0</td>\n",
       "      <td>0</td>\n",
       "      <td>148.0</td>\n",
       "      <td>95.0</td>\n",
       "      <td>20.98</td>\n",
       "      <td>95.0</td>\n",
       "      <td>14.112154</td>\n",
       "    </tr>\n",
       "    <tr>\n",
       "      <th>2866</th>\n",
       "      <td>0</td>\n",
       "      <td>59</td>\n",
       "      <td>2.0</td>\n",
       "      <td>1</td>\n",
       "      <td>20.0</td>\n",
       "      <td>0.0</td>\n",
       "      <td>0</td>\n",
       "      <td>1</td>\n",
       "      <td>0</td>\n",
       "      <td>154.5</td>\n",
       "      <td>93.0</td>\n",
       "      <td>21.82</td>\n",
       "      <td>85.0</td>\n",
       "      <td>15.515928</td>\n",
       "    </tr>\n",
       "    <tr>\n",
       "      <th>807</th>\n",
       "      <td>1</td>\n",
       "      <td>61</td>\n",
       "      <td>1.0</td>\n",
       "      <td>1</td>\n",
       "      <td>20.0</td>\n",
       "      <td>0.0</td>\n",
       "      <td>0</td>\n",
       "      <td>1</td>\n",
       "      <td>0</td>\n",
       "      <td>157.0</td>\n",
       "      <td>99.0</td>\n",
       "      <td>28.74</td>\n",
       "      <td>95.0</td>\n",
       "      <td>15.644672</td>\n",
       "    </tr>\n",
       "    <tr>\n",
       "      <th>2233</th>\n",
       "      <td>1</td>\n",
       "      <td>64</td>\n",
       "      <td>1.0</td>\n",
       "      <td>1</td>\n",
       "      <td>20.0</td>\n",
       "      <td>0.0</td>\n",
       "      <td>0</td>\n",
       "      <td>1</td>\n",
       "      <td>0</td>\n",
       "      <td>155.0</td>\n",
       "      <td>99.0</td>\n",
       "      <td>22.46</td>\n",
       "      <td>75.0</td>\n",
       "      <td>15.669995</td>\n",
       "    </tr>\n",
       "  </tbody>\n",
       "</table>\n",
       "</div>"
      ],
      "text/plain": [
       "      male  age  education  current_smoker  cigs_per_day  bp_meds  \\\n",
       "2158     0   68        3.0               1          20.0      0.0   \n",
       "2320     0   68        2.0               1          20.0      0.0   \n",
       "2866     0   59        2.0               1          20.0      0.0   \n",
       "807      1   61        1.0               1          20.0      0.0   \n",
       "2233     1   64        1.0               1          20.0      0.0   \n",
       "\n",
       "      prevalent_stroke  prevalent_hyp  diabetes  sys_bp  dia_bp    bmi  \\\n",
       "2158                 0              1         0   158.0    94.0  31.64   \n",
       "2320                 0              0         0   148.0    95.0  20.98   \n",
       "2866                 0              1         0   154.5    93.0  21.82   \n",
       "807                  0              1         0   157.0    99.0  28.74   \n",
       "2233                 0              1         0   155.0    99.0  22.46   \n",
       "\n",
       "      heart_rate   distance  \n",
       "2158        80.0  10.612492  \n",
       "2320        95.0  14.112154  \n",
       "2866        85.0  15.515928  \n",
       "807         95.0  15.644672  \n",
       "2233        75.0  15.669995  "
      ]
     },
     "execution_count": 324,
     "metadata": {},
     "output_type": "execute_result"
    }
   ],
   "source": [
    "distances, row_numbers = model.kneighbors([new_row])\n",
    "\n",
    "X_train.iloc[row_numbers[0]]"
   ]
  },
  {
   "cell_type": "markdown",
   "metadata": {},
   "source": [
    "**3. Some of our columns have MUCH larger numbers. These columns are overweighted when we calculate which rows are close.**\n",
    "\n",
    "**Drop the** `tot_chol` **and** `glucose` **columns from the feature matrix. Rerun** `train_test_split()` **and refit your model. What's the model's accuracy score now?** "
   ]
  },
  {
   "cell_type": "code",
   "execution_count": 320,
   "metadata": {},
   "outputs": [
    {
     "data": {
      "text/plain": [
       "0.8227571115973742"
      ]
     },
     "execution_count": 320,
     "metadata": {},
     "output_type": "execute_result"
    }
   ],
   "source": [
    "X = df.drop(columns=['heart_attack', 'tot_chol', 'glucose'])\n",
    "X_train, X_test, y_train, y_test = train_test_split(X, y, random_state=4)\n",
    "\n",
    "model.fit(X_train, y_train)\n",
    "model.score(X_test, y_test)"
   ]
  },
  {
   "cell_type": "markdown",
   "metadata": {},
   "source": [
    "**4. You can also use the** `scale()` **function to standardize the feature matrix before fitting the model.**\n",
    "\n",
    "**Rerun** `train_test_split()` **on the scaled version of your feature matrix and refit your model. What's the model's accuracy score now?** "
   ]
  },
  {
   "cell_type": "code",
   "execution_count": 318,
   "metadata": {},
   "outputs": [
    {
     "data": {
      "text/plain": [
       "0.8271334792122538"
      ]
     },
     "execution_count": 318,
     "metadata": {},
     "output_type": "execute_result"
    }
   ],
   "source": [
    "from sklearn.preprocessing import scale\n",
    "\n",
    "X = df.drop(columns=['heart_attack'])\n",
    "X_train, X_test, y_train, y_test = train_test_split(scale(X), y, random_state=4)\n",
    "\n",
    "model.fit(X_train, y_train)\n",
    "model.score(X_test, y_test)"
   ]
  }
 ],
 "metadata": {
  "kernelspec": {
   "display_name": "Python 3",
   "language": "python",
   "name": "python3"
  },
  "language_info": {
   "codemirror_mode": {
    "name": "ipython",
    "version": 3
   },
   "file_extension": ".py",
   "mimetype": "text/x-python",
   "name": "python",
   "nbconvert_exporter": "python",
   "pygments_lexer": "ipython3",
   "version": "3.7.6"
  }
 },
 "nbformat": 4,
 "nbformat_minor": 2
}
